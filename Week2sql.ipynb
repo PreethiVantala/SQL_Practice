{
 "cells": [
  {
   "cell_type": "code",
   "execution_count": 1,
   "id": "517617aa-f27f-4256-88ae-d1ba3e2e2033",
   "metadata": {},
   "outputs": [
    {
     "name": "stdout",
     "output_type": "stream",
     "text": [
      "    CustomerId  Total_Spent  Rank\n",
      "0            6        49.62     1\n",
      "1           26        47.62     2\n",
      "2           57        46.62     3\n",
      "3           45        45.62     4\n",
      "4           46        45.62     4\n",
      "5           24        43.62     6\n",
      "6           28        43.62     6\n",
      "7           37        43.62     6\n",
      "8            7        42.62     9\n",
      "9           25        42.62     9\n",
      "10          44        41.62    11\n",
      "11           5        40.62    12\n",
      "12          43        40.62    12\n",
      "13          48        40.62    12\n",
      "14           1        39.62    15\n",
      "15           3        39.62    15\n",
      "16           4        39.62    15\n",
      "17          17        39.62    15\n",
      "18          20        39.62    15\n",
      "19          22        39.62    15\n",
      "20          34        39.62    15\n",
      "21          42        39.62    15\n",
      "22          15        38.62    23\n",
      "23          19        38.62    23\n",
      "24          39        38.62    23\n",
      "25          40        38.62    23\n",
      "26          51        38.62    23\n",
      "27          58        38.62    23\n",
      "28           2        37.62    29\n",
      "29           8        37.62    29\n",
      "30           9        37.62    29\n",
      "31          10        37.62    29\n",
      "32          11        37.62    29\n",
      "33          12        37.62    29\n",
      "34          13        37.62    29\n",
      "35          14        37.62    29\n",
      "36          16        37.62    29\n",
      "37          18        37.62    29\n",
      "38          21        37.62    29\n",
      "39          23        37.62    29\n",
      "40          27        37.62    29\n",
      "41          29        37.62    29\n",
      "42          30        37.62    29\n",
      "43          31        37.62    29\n",
      "44          32        37.62    29\n",
      "45          33        37.62    29\n",
      "46          35        37.62    29\n",
      "47          36        37.62    29\n",
      "48          38        37.62    29\n",
      "49          41        37.62    29\n",
      "50          47        37.62    29\n",
      "51          49        37.62    29\n",
      "52          50        37.62    29\n",
      "53          52        37.62    29\n",
      "54          53        37.62    29\n",
      "55          54        37.62    29\n",
      "56          55        37.62    29\n",
      "57          56        37.62    29\n",
      "58          59        36.64    59\n"
     ]
    }
   ],
   "source": [
    "## 1. Rank customers based on total purchase amount using RANK()\n",
    "\n",
    "import sqlite3\n",
    "import pandas as pd\n",
    "\n",
    "# Connect to the database\n",
    "conn = sqlite3.connect(\"C:/Users/vanta/OneDrive/Documents/Chinook_Sqlite.sqlite\")\n",
    "\n",
    "# Run a query and store results in a DataFrame\n",
    "query1 = \"SELECT CustomerId, SUM(Total) AS Total_Spent, RANK() OVER (ORDER BY SUM(Total) DESC) AS Rank FROM Invoice GROUP BY CustomerId;\"\n",
    "df1 = pd.read_sql_query(query1, conn)\n",
    "print(df1)"
   ]
  },
  {
   "cell_type": "code",
   "execution_count": 4,
   "id": "d3bc7064-6f94-41bc-96cf-6c3bae53a39c",
   "metadata": {},
   "outputs": [
    {
     "name": "stdout",
     "output_type": "stream",
     "text": [
      "                        Track        Genre  Sales  Rank\n",
      "0             All Night Thing  Alternative      1     1\n",
      "1                 Billie Jean  Alternative      1     1\n",
      "2               Call Me a Dog  Alternative      1     1\n",
      "3            Disappearing Act  Alternative      1     1\n",
      "4           Four Walled World  Alternative      1     1\n",
      "..                        ...          ...    ...   ...\n",
      "272                 No Futuro        World      1     1\n",
      "273  O Que Vai Em Meu Coração        World      1     1\n",
      "274                   Papelão        World      1     1\n",
      "275              Voce Inteira        World      1     1\n",
      "276                    É Fogo        World      1     1\n",
      "\n",
      "[277 rows x 4 columns]\n"
     ]
    }
   ],
   "source": [
    "## 2. Find top 3 tracks in each genre using PARTITION BY\n",
    "query2 = \"\"\"\n",
    "WITH RankedTracks AS (\n",
    "    SELECT \n",
    "        t.Name AS Track, \n",
    "        g.Name AS Genre, \n",
    "        COUNT(il.TrackId) AS Sales,\n",
    "        RANK() OVER (PARTITION BY g.Name ORDER BY COUNT(il.TrackId) DESC) AS Rank\n",
    "    FROM InvoiceLine il\n",
    "    JOIN Track t ON il.TrackId = t.TrackId\n",
    "    JOIN Genre g ON t.GenreId = g.GenreId\n",
    "    GROUP BY t.Name, g.Name\n",
    ")\n",
    "SELECT * FROM RankedTracks WHERE Rank <= 3;\n",
    "\"\"\"\n",
    "\n",
    "df2 = pd.read_sql_query(query2, conn)\n",
    "print(df2)\n"
   ]
  },
  {
   "cell_type": "code",
   "execution_count": null,
   "id": "6502d007-0386-4f73-a4b0-f07ac3a1c439",
   "metadata": {},
   "outputs": [],
   "source": []
  }
 ],
 "metadata": {
  "kernelspec": {
   "display_name": "Python 3 (ipykernel)",
   "language": "python",
   "name": "python3"
  },
  "language_info": {
   "codemirror_mode": {
    "name": "ipython",
    "version": 3
   },
   "file_extension": ".py",
   "mimetype": "text/x-python",
   "name": "python",
   "nbconvert_exporter": "python",
   "pygments_lexer": "ipython3",
   "version": "3.12.4"
  }
 },
 "nbformat": 4,
 "nbformat_minor": 5
}
