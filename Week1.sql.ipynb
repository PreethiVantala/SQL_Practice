{
 "cells": [
  {
   "cell_type": "code",
   "execution_count": 7,
   "id": "bcbf2c45-381b-42d1-9717-b1a8c3d9c5ad",
   "metadata": {},
   "outputs": [
    {
     "name": "stdout",
     "output_type": "stream",
     "text": [
      "    CustomerId  Total_Spent\n",
      "0            6        49.62\n",
      "1           26        47.62\n",
      "2           57        46.62\n",
      "3           45        45.62\n",
      "4           46        45.62\n",
      "5           24        43.62\n",
      "6           28        43.62\n",
      "7           37        43.62\n",
      "8            7        42.62\n",
      "9           25        42.62\n",
      "10          44        41.62\n",
      "11           5        40.62\n",
      "12          43        40.62\n",
      "13          48        40.62\n",
      "14           1        39.62\n",
      "15           3        39.62\n",
      "16           4        39.62\n",
      "17          17        39.62\n",
      "18          20        39.62\n",
      "19          22        39.62\n",
      "20          34        39.62\n",
      "21          42        39.62\n",
      "22          15        38.62\n",
      "23          19        38.62\n",
      "24          39        38.62\n",
      "25          40        38.62\n",
      "26          51        38.62\n",
      "27          58        38.62\n",
      "28           2        37.62\n",
      "29           8        37.62\n",
      "30           9        37.62\n",
      "31          10        37.62\n",
      "32          11        37.62\n",
      "33          12        37.62\n",
      "34          13        37.62\n",
      "35          14        37.62\n",
      "36          16        37.62\n",
      "37          18        37.62\n",
      "38          21        37.62\n",
      "39          23        37.62\n",
      "40          27        37.62\n",
      "41          29        37.62\n",
      "42          30        37.62\n",
      "43          31        37.62\n",
      "44          32        37.62\n",
      "45          33        37.62\n",
      "46          35        37.62\n",
      "47          36        37.62\n",
      "48          38        37.62\n",
      "49          41        37.62\n",
      "50          47        37.62\n",
      "51          49        37.62\n",
      "52          50        37.62\n",
      "53          52        37.62\n",
      "54          53        37.62\n",
      "55          54        37.62\n",
      "56          55        37.62\n",
      "57          56        37.62\n",
      "58          59        36.64\n"
     ]
    }
   ],
   "source": [
    "## 1.Find the total sales per customer\n",
    "import sqlite3\n",
    "import pandas as pd\n",
    "\n",
    "# Connect to the database\n",
    "conn = sqlite3.connect(\"C:/Users/vanta/OneDrive/Documents/Chinook_Sqlite.sqlite\")\n",
    "\n",
    "# Run a query and store results in a DataFrame\n",
    "query1 = \"SELECT CustomerId, SUM(Total) AS Total_Spent FROM Invoice GROUP BY CustomerId ORDER BY Total_Spent DESC;\"\n",
    "df1 = pd.read_sql_query(query, conn)\n",
    "\n",
    "# Display results\n",
    "print(df1)\n"
   ]
  },
  {
   "cell_type": "code",
   "execution_count": 9,
   "id": "899f8e04-7cd2-41ba-8ab3-8516c4f358ab",
   "metadata": {},
   "outputs": [
    {
     "name": "stdout",
     "output_type": "stream",
     "text": [
      "                      Name  Total_Sales\n",
      "0              Iron Maiden          140\n",
      "1                       U2          107\n",
      "2                Metallica           91\n",
      "3             Led Zeppelin           87\n",
      "4  Os Paralamas Do Sucesso           45\n"
     ]
    }
   ],
   "source": [
    "## 2. Get the top 5 highest-selling artists\n",
    "query2 = \"\"\"SELECT a.Name, COUNT(il.TrackId) AS Total_Sales \n",
    "FROM InvoiceLine il \n",
    "JOIN Track t ON il.TrackId = t.TrackId \n",
    "JOIN Album al ON t.AlbumId = al.AlbumId \n",
    "JOIN Artist a ON al.ArtistId = a.ArtistId \n",
    "GROUP BY a.Name \n",
    "ORDER BY Total_Sales DESC \n",
    "LIMIT 5;\"\"\"\n",
    "df2 = pd.read_sql_query(query2, conn)\n",
    "print(df2)"
   ]
  },
  {
   "cell_type": "code",
   "execution_count": 10,
   "id": "44e9a19f-d0f3-41ef-9510-5484ea530494",
   "metadata": {},
   "outputs": [
    {
     "name": "stdout",
     "output_type": "stream",
     "text": [
      "Empty DataFrame\n",
      "Columns: [CustomerId]\n",
      "Index: []\n"
     ]
    }
   ],
   "source": [
    "## 3. Find customers who made purchases in 2020 (modify based on available years)\n",
    "\n",
    "query3 = \"SELECT DISTINCT CustomerId FROM Invoice WHERE InvoiceDate LIKE '2020%';\"\n",
    "df3 = pd.read_sql_query(query3, conn)\n",
    "print(df3)"
   ]
  },
  {
   "cell_type": "code",
   "execution_count": 11,
   "id": "b1637a19-938c-4fde-afad-f1a73ac3eb24",
   "metadata": {},
   "outputs": [
    {
     "name": "stdout",
     "output_type": "stream",
     "text": [
      "      Month  Monthly_Sales  Cumulative_Sales\n",
      "0   2009-01          35.64             35.64\n",
      "1   2009-02          37.62             73.26\n",
      "2   2009-03          37.62            110.88\n",
      "3   2009-04          37.62            148.50\n",
      "4   2009-05          37.62            186.12\n",
      "5   2009-06          37.62            223.74\n",
      "6   2009-07          37.62            261.36\n",
      "7   2009-08          37.62            298.98\n",
      "8   2009-09          37.62            336.60\n",
      "9   2009-10          37.62            374.22\n",
      "10  2009-11          37.62            411.84\n",
      "11  2009-12          37.62            449.46\n",
      "12  2010-01          52.62            502.08\n",
      "13  2010-02          46.62            548.70\n",
      "14  2010-03          44.62            593.32\n",
      "15  2010-04          37.62            630.94\n",
      "16  2010-05          37.62            668.56\n",
      "17  2010-06          37.62            706.18\n",
      "18  2010-07          37.62            743.80\n",
      "19  2010-08          37.62            781.42\n",
      "20  2010-09          36.63            818.05\n",
      "21  2010-10          37.62            855.67\n",
      "22  2010-11          37.62            893.29\n",
      "23  2010-12          37.62            930.91\n",
      "24  2011-01          37.62            968.53\n",
      "25  2011-02          37.62           1006.15\n",
      "26  2011-03          37.62           1043.77\n",
      "27  2011-04          51.62           1095.39\n",
      "28  2011-05          42.62           1138.01\n",
      "29  2011-06          50.62           1188.63\n",
      "30  2011-07          37.62           1226.25\n",
      "31  2011-08          37.62           1263.87\n",
      "32  2011-09          37.62           1301.49\n",
      "33  2011-10          37.62           1339.11\n",
      "34  2011-11          23.76           1362.87\n",
      "35  2011-12          37.62           1400.49\n",
      "36  2012-01          37.62           1438.11\n",
      "37  2012-02          37.62           1475.73\n",
      "38  2012-03          37.62           1513.35\n",
      "39  2012-04          37.62           1550.97\n",
      "40  2012-05          37.62           1588.59\n",
      "41  2012-06          37.62           1626.21\n",
      "42  2012-07          39.62           1665.83\n",
      "43  2012-08          47.62           1713.45\n",
      "44  2012-09          46.71           1760.16\n",
      "45  2012-10          42.62           1802.78\n",
      "46  2012-11          37.62           1840.40\n",
      "47  2012-12          37.62           1878.02\n",
      "48  2013-01          37.62           1915.64\n",
      "49  2013-02          27.72           1943.36\n",
      "50  2013-03          37.62           1980.98\n",
      "51  2013-04          33.66           2014.64\n",
      "52  2013-05          37.62           2052.26\n",
      "53  2013-06          37.62           2089.88\n",
      "54  2013-07          37.62           2127.50\n",
      "55  2013-08          37.62           2165.12\n",
      "56  2013-09          37.62           2202.74\n",
      "57  2013-10          37.62           2240.36\n",
      "58  2013-11          49.62           2289.98\n",
      "59  2013-12          38.62           2328.60\n"
     ]
    }
   ],
   "source": [
    "## 4. Use Window Function to get cumulative sales by month\n",
    "query4 = \"\"\"SELECT strftime('%Y-%m', InvoiceDate) AS Month, SUM(Total) AS Monthly_Sales,\n",
    "       SUM(SUM(Total)) OVER (ORDER BY strftime('%Y-%m', InvoiceDate)) AS Cumulative_Sales\n",
    "FROM Invoice \n",
    "GROUP BY Month;\"\"\"\n",
    "df4 = pd.read_sql_query(query4, conn)\n",
    "print(df4)\n"
   ]
  },
  {
   "cell_type": "code",
   "execution_count": 12,
   "id": "a4ad91ed-1c49-47a9-b316-07f183f933b6",
   "metadata": {},
   "outputs": [
    {
     "name": "stdout",
     "output_type": "stream",
     "text": [
      "   Name  Play_Count\n",
      "0  Rock         835\n"
     ]
    }
   ],
   "source": [
    "## 5. Find the most popular genre\n",
    "\n",
    "query5 = \"\"\"SELECT g.Name, COUNT(il.TrackId) AS Play_Count \n",
    "FROM InvoiceLine il \n",
    "JOIN Track t ON il.TrackId = t.TrackId \n",
    "JOIN Genre g ON t.GenreId = g.GenreId \n",
    "GROUP BY g.Name \n",
    "ORDER BY Play_Count DESC \n",
    "LIMIT 1;\"\"\"\n",
    "df5 = pd.read_sql_query(query5, conn)\n",
    "print(df5)"
   ]
  },
  {
   "cell_type": "code",
   "execution_count": null,
   "id": "f616dac1-0525-433d-bb9c-fa9cabb6442e",
   "metadata": {},
   "outputs": [],
   "source": []
  }
 ],
 "metadata": {
  "kernelspec": {
   "display_name": "Python 3 (ipykernel)",
   "language": "python",
   "name": "python3"
  },
  "language_info": {
   "codemirror_mode": {
    "name": "ipython",
    "version": 3
   },
   "file_extension": ".py",
   "mimetype": "text/x-python",
   "name": "python",
   "nbconvert_exporter": "python",
   "pygments_lexer": "ipython3",
   "version": "3.12.4"
  }
 },
 "nbformat": 4,
 "nbformat_minor": 5
}
